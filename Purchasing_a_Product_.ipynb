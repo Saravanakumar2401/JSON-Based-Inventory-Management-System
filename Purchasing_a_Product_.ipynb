{
  "nbformat": 4,
  "nbformat_minor": 0,
  "metadata": {
    "colab": {
      "name": "Purchasing a Product .ipynb",
      "provenance": [],
      "collapsed_sections": []
    },
    "kernelspec": {
      "name": "python3",
      "display_name": "Python 3"
    },
    "language_info": {
      "name": "python"
    }
  },
  "cells": [
    {
      "cell_type": "markdown",
      "metadata": {
        "id": "wfOAaz_tzXLT"
      },
      "source": [
        "**Read Inventory**"
      ]
    },
    {
      "cell_type": "code",
      "metadata": {
        "id": "fuwPevD0y7s3"
      },
      "source": [
        "import json\n",
        "\n",
        "fd = open(\"invent.json\",'r')\n",
        "r = fd.read()\n",
        "fd.close()\n",
        "\n",
        "invent = json.loads(r)"
      ],
      "execution_count": 45,
      "outputs": []
    },
    {
      "cell_type": "code",
      "metadata": {
        "colab": {
          "base_uri": "https://localhost:8080/"
        },
        "id": "p8m8AVDIzHp2",
        "outputId": "c4526894-faf5-4d94-bc7d-5a93085e0231"
      },
      "source": [
        "invent"
      ],
      "execution_count": 63,
      "outputs": [
        {
          "output_type": "execute_result",
          "data": {
            "text/plain": [
              "{'3001': {'Expiry_Date': '2022-04-21',\n",
              "  'Price': 40,\n",
              "  'Product name': 'Good Day Biscuit',\n",
              "  'Quantity': 2,\n",
              "  'Tax': '8%'},\n",
              " '3002': {'Expiry_Date': '2022-02-06',\n",
              "  'Price': 250,\n",
              "  'Product name': 'Hatson Panner',\n",
              "  'Quantity': 2,\n",
              "  'Tax': '9%'},\n",
              " '3003': {'Expiry_Date': '2022-03-17',\n",
              "  'Price': 280,\n",
              "  'Product name': 'Rava',\n",
              "  'Quantity': 3,\n",
              "  'Tax': '7%'},\n",
              " '3004': {'Expiry_Date': '2022-03-06',\n",
              "  'Price': 210,\n",
              "  'Product name': 'Colgate Toothpaste',\n",
              "  'Quantity': 16,\n",
              "  'Tax': '12%'},\n",
              " '3005': {'Expiry_Date': '2022-11-07',\n",
              "  'Price': 190,\n",
              "  'Product name': 'Odonil Room Freshner',\n",
              "  'Quantity': 35,\n",
              "  'Tax': '13%'},\n",
              " '3006': {'Expiry_Date': '2022-07-10',\n",
              "  'Price': 50,\n",
              "  'Product name': 'Sunrise Coffee Powder',\n",
              "  'Quantity': 86,\n",
              "  'Tax': '10%'},\n",
              " '3007': {'Expiry_Date': '2022-03-15',\n",
              "  'Price': 240,\n",
              "  'Product name': 'Surf Excel Liquid',\n",
              "  'Quantity': 183,\n",
              "  'Tax': '15%'},\n",
              " '3008': {'Expiry_Date': '2022-01-03',\n",
              "  'Price': 30,\n",
              "  'Product name': 'Maagi Noodles',\n",
              "  'Quantity': 234,\n",
              "  'Tax': '11%'},\n",
              " '3009': {'Expiry_Date': '2022-07-19',\n",
              "  'Price': 250,\n",
              "  'Product name': 'Himalaya Face Cream',\n",
              "  'Quantity': 178,\n",
              "  'Tax': '16%'},\n",
              " '3010': {'Expiry_Date': '2022-09-27',\n",
              "  'Price': 35,\n",
              "  'Product name': 'Diary Milk Chocolate',\n",
              "  'Quantity': 380,\n",
              "  'Tax': '7%'},\n",
              " '3011': {'Expiry_Date': '2023-07-29',\n",
              "  'Price': 5500,\n",
              "  'Product name': 'Water Heater',\n",
              "  'Quantity': 125,\n",
              "  'Tax': '30%'},\n",
              " '3012': {'Expiry_Date': '2022-02-06',\n",
              "  'Price': 278,\n",
              "  'Product name': 'Wheat',\n",
              "  'Quantity': 430,\n",
              "  'Tax': '15%'},\n",
              " '3013': {'Expiry_Date': '2023-08-24',\n",
              "  'Price': 4550,\n",
              "  'Product name': 'Keyboard',\n",
              "  'Quantity': 120,\n",
              "  'Tax': '23%'},\n",
              " '3014': {'Expiry_Date': '2022-09-10',\n",
              "  'Price': 65,\n",
              "  'Product name': 'Pepsodant Tooth Brush',\n",
              "  'Quantity': 196,\n",
              "  'Tax': '12%'},\n",
              " '3015': {'Expiry_Date': '2022-06-03',\n",
              "  'Price': 145,\n",
              "  'Product name': 'Moov Pain Relief Gel',\n",
              "  'Quantity': 265,\n",
              "  'Tax': '14%'},\n",
              " '3016': {'Expiry_Date': '2022-10-18',\n",
              "  'Price': 125,\n",
              "  'Product name': 'Detol Liquid',\n",
              "  'Quantity': 320,\n",
              "  'Tax': '11%'},\n",
              " '3017': {'Expiry_Date': '2023-11-11',\n",
              "  'Price': 290,\n",
              "  'Product name': 'Toshiba Pendrive',\n",
              "  'Quantity': 300,\n",
              "  'Tax': '16%'},\n",
              " '3018': {'Expiry_Date': '2022-06-21',\n",
              "  'Price': 49,\n",
              "  'Product name': 'Lifebuoy Soap',\n",
              "  'Quantity': 450,\n",
              "  'Tax': '18%'},\n",
              " '3019': {'Expiry_Date': '2021-12-02',\n",
              "  'Price': 500,\n",
              "  'Product name': 'Basmathi Rice',\n",
              "  'Quantity': 170,\n",
              "  'Tax': '19%'},\n",
              " '3020': {'Expiry_Date': '2022-01-20',\n",
              "  'Price': 55,\n",
              "  'Product name': 'Bread',\n",
              "  'Quantity': 120,\n",
              "  'Tax': '9%'},\n",
              " '3021': {'Expiry_Date': '2022-09-12',\n",
              "  'Price': 130,\n",
              "  'Product name': 'Savlon Hand Wash',\n",
              "  'Quantity': 397,\n",
              "  'Tax': '13%'},\n",
              " '3022': {'Expiry_Date': '2022-04-28',\n",
              "  'Price': 60,\n",
              "  'Product name': 'Tomato Ketchup',\n",
              "  'Quantity': 180,\n",
              "  'Tax': '6%'},\n",
              " '3023': {'Expiry_Date': '2022-02-24',\n",
              "  'Price': 10,\n",
              "  'Product name': 'Bingo Chips',\n",
              "  'Quantity': 190,\n",
              "  'Tax': '9%'},\n",
              " '3024': {'Expiry_Date': '2022-07-11',\n",
              "  'Price': 20,\n",
              "  'Product name': 'Milk bikies Biscuit',\n",
              "  'Quantity': 270,\n",
              "  'Tax': '6%'},\n",
              " '3025': {'Expiry_Date': '2022-02-19',\n",
              "  'Price': 120,\n",
              "  'Product name': 'Cool Drinks',\n",
              "  'Quantity': 500,\n",
              "  'Tax': '17%'},\n",
              " '3026': {'Expiry_Date': '2022-09-14',\n",
              "  'Price': 285,\n",
              "  'Product name': 'Horlicks',\n",
              "  'Quantity': 627,\n",
              "  'Tax': '19%'},\n",
              " '3027': {'Expiry_Date': '2022-02-11',\n",
              "  'Price': 130,\n",
              "  'Product name': \"Cavin's Milk\",\n",
              "  'Quantity': 230,\n",
              "  'Tax': '10%'},\n",
              " '3028': {'Expiry_Date': '2022-05-15',\n",
              "  'Price': 210,\n",
              "  'Product name': 'Dabur Honey',\n",
              "  'Quantity': 243,\n",
              "  'Tax': '15%'},\n",
              " '3029': {'Expiry_Date': '2021-07-23',\n",
              "  'Price': 30,\n",
              "  'Product name': 'Almons',\n",
              "  'Quantity': 235,\n",
              "  'Tax': '12%'},\n",
              " '3030': {'Expiry_Date': '2021-12-31',\n",
              "  'Price': 175,\n",
              "  'Product name': 'Jaggery',\n",
              "  'Quantity': 300,\n",
              "  'Tax': '17%'}}"
            ]
          },
          "metadata": {},
          "execution_count": 63
        }
      ]
    },
    {
      "cell_type": "markdown",
      "metadata": {
        "id": "ujkw2WI6zf3S"
      },
      "source": [
        "**Purchase**"
      ]
    },
    {
      "cell_type": "code",
      "metadata": {
        "colab": {
          "base_uri": "https://localhost:8080/"
        },
        "id": "xpTjeoPYzIPH",
        "outputId": "e5445dc8-c4ae-448d-cda3-ddf6b658f928"
      },
      "source": [
        "ai_prod_id  = str(input(\"Enter the product_Id: \"))\n",
        "ai_quantity = int(input(\"Enter the quantity: \"))\n",
        "print(\"****************** Purchase Bill *******************\")\n",
        "print(\"Product Name: \", invent[ai_prod_id][\"Product name\"])\n",
        "print(\"Price: \", invent[ai_prod_id][\"Price\"])\n",
        "print(\"Billing Amount: \", invent[ai_prod_id]['Price'] * ai_quantity)\n",
        "invent[ai_prod_id]['Quantity'] = invent[ai_prod_id]['Quantity'] - ai_quantity"
      ],
      "execution_count": 61,
      "outputs": [
        {
          "output_type": "stream",
          "name": "stdout",
          "text": [
            "Enter the product_Id: 3007\n",
            "Enter the quantity: 1\n",
            "****************** Purchase Bill *******************\n",
            "Product Name:  Surf Excel Liquid\n",
            "Price:  240\n",
            "Billing Amount:  240\n"
          ]
        }
      ]
    },
    {
      "cell_type": "markdown",
      "metadata": {
        "id": "Li9Oh7RVznKW"
      },
      "source": [
        "**Update Inventory after purchase**"
      ]
    },
    {
      "cell_type": "code",
      "metadata": {
        "id": "FFnMXmd9zJ-b"
      },
      "source": [
        "js = json.dumps(invent)\n",
        "\n",
        "fd = open(\"invent.json\",'w')\n",
        "fd.write(js)\n",
        "fd.close()"
      ],
      "execution_count": 62,
      "outputs": []
    },
    {
      "cell_type": "markdown",
      "metadata": {
        "id": "P2jFgGyjzrHU"
      },
      "source": [
        "**Sales JSON**"
      ]
    },
    {
      "cell_type": "code",
      "metadata": {
        "colab": {
          "base_uri": "https://localhost:8080/"
        },
        "id": "Lti89bgUzN-L",
        "outputId": "25245d6f-ebee-4bf1-f5bf-8f65056c2136"
      },
      "source": [
        "{'Product id' : ai_prod_id, 'Quantity' : ai_quantity, 'Amount to be paid': invent[ai_prod_id]['Price'] * ai_quantity}"
      ],
      "execution_count": 65,
      "outputs": [
        {
          "output_type": "execute_result",
          "data": {
            "text/plain": [
              "{'Amount to be paid': 240, 'Product id': '3007', 'Quantity': 1}"
            ]
          },
          "metadata": {},
          "execution_count": 65
        }
      ]
    },
    {
      "cell_type": "code",
      "metadata": {
        "id": "GAMTObpFzOyb"
      },
      "source": [
        "sales[len(sales)+1] = {'Product id' : ai_prod_id, 'Quantity' : ai_quantity, 'Amount to be paid': invent[ai_prod_id]['Price'] * ai_quantity}"
      ],
      "execution_count": 66,
      "outputs": []
    },
    {
      "cell_type": "code",
      "metadata": {
        "id": "10JRDo3JzTeg"
      },
      "source": [
        "sale = json.dumps(sales)"
      ],
      "execution_count": 67,
      "outputs": []
    },
    {
      "cell_type": "code",
      "metadata": {
        "colab": {
          "base_uri": "https://localhost:8080/"
        },
        "id": "MORIl5qpEcoX",
        "outputId": "fad0f664-c114-42e7-d612-e2221e25443b"
      },
      "source": [
        "sales"
      ],
      "execution_count": 68,
      "outputs": [
        {
          "output_type": "execute_result",
          "data": {
            "text/plain": [
              "{1: {'Amount to be paid': 480, 'Product id': '3007', 'Quantity': 2},\n",
              " 2: {'Amount to be paid': 240, 'Product id': '3007', 'Quantity': 1}}"
            ]
          },
          "metadata": {},
          "execution_count": 68
        }
      ]
    },
    {
      "cell_type": "code",
      "metadata": {
        "id": "j5NW0C6849XY"
      },
      "source": [
        "js = json.dumps(sales)\n",
        "fd = open(\"sales.json\",'w')\n",
        "fd.write(js)\n",
        "fd.close()"
      ],
      "execution_count": 69,
      "outputs": []
    },
    {
      "cell_type": "code",
      "metadata": {
        "id": "U-1VzuXpgjgg"
      },
      "source": [
        "fd = open(\"sales.json\",'r')\n",
        "txt = fd.read()\n",
        "fd.close()"
      ],
      "execution_count": 70,
      "outputs": []
    },
    {
      "cell_type": "code",
      "metadata": {
        "colab": {
          "base_uri": "https://localhost:8080/",
          "height": 52
        },
        "id": "GoXuePRigzJA",
        "outputId": "a18e9354-8ec5-48c9-be05-fb3b18a941f2"
      },
      "source": [
        "txt"
      ],
      "execution_count": 71,
      "outputs": [
        {
          "output_type": "execute_result",
          "data": {
            "application/vnd.google.colaboratory.intrinsic+json": {
              "type": "string"
            },
            "text/plain": [
              "'{\"1\": {\"Product id\": \"3007\", \"Quantity\": 2, \"Amount to be paid\": 480}, \"2\": {\"Product id\": \"3007\", \"Quantity\": 1, \"Amount to be paid\": 240}}'"
            ]
          },
          "metadata": {},
          "execution_count": 71
        }
      ]
    },
    {
      "cell_type": "code",
      "metadata": {
        "id": "sxS_7rwSiWyF"
      },
      "source": [
        ""
      ],
      "execution_count": null,
      "outputs": []
    }
  ]
}
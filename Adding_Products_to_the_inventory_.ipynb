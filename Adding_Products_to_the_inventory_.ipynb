{
  "nbformat": 4,
  "nbformat_minor": 0,
  "metadata": {
    "colab": {
      "name": "Adding Products to the inventory .ipynb",
      "provenance": [],
      "collapsed_sections": []
    },
    "kernelspec": {
      "name": "python3",
      "display_name": "Python 3"
    },
    "language_info": {
      "name": "python"
    }
  },
  "cells": [
    {
      "cell_type": "code",
      "metadata": {
        "id": "ygJaIlbFu0Tj"
      },
      "source": [
        "fd = open(\"invent.json\",'r')\n",
        "c = fd.read()\n",
        "fd.close()"
      ],
      "execution_count": 36,
      "outputs": []
    },
    {
      "cell_type": "code",
      "metadata": {
        "colab": {
          "base_uri": "https://localhost:8080/",
          "height": 35
        },
        "id": "9p4Fb6Ssu5of",
        "outputId": "8d888da4-56f6-474d-fd0b-7f3a6f432a19"
      },
      "source": [
        "c"
      ],
      "execution_count": 37,
      "outputs": [
        {
          "output_type": "execute_result",
          "data": {
            "application/vnd.google.colaboratory.intrinsic+json": {
              "type": "string"
            },
            "text/plain": [
              "'{\"3031\": {\"Product name\": \"Oreo Biscuit\", \"Expiry_Date\": \"2022-06-14\", \"Tax\": \"13%\", \"Quantity\": 340, \"Price\": 20}}'"
            ]
          },
          "metadata": {},
          "execution_count": 37
        }
      ]
    },
    {
      "cell_type": "code",
      "metadata": {
        "id": "eHl52QpYuxRj"
      },
      "source": [
        "import json"
      ],
      "execution_count": 11,
      "outputs": []
    },
    {
      "cell_type": "code",
      "metadata": {
        "colab": {
          "base_uri": "https://localhost:8080/"
        },
        "id": "PZiunJqruCSO",
        "outputId": "db2948b7-8656-4345-baab-810432133f4c"
      },
      "source": [
        "prod_id = int(input(\"Enter the Product id:\"))\n",
        "prod_name = str(input(\"Enter the Product name:\"))\n",
        "expiry_date = str(input(\"Enter the Expiry Date:\"))\n",
        "tax = str(input(\"Enter the Tax of the Product:\"))\n",
        "quantity = int(input(\"Enter Quantity:\"))\n",
        "price = int(input(\"Enter the Price:\"))\n",
        "invent [prod_id] : {\"Product name\":prod_name,\"Expiry_Date\":expiry_date,\"Tax\":tax,\"Quantity\":quantity,\"Price\":price}\n",
        "print(\"********************* ADDING PRODUCTS TO THE INVENTORY ********************\")\n",
        "print(\"Product id:\",prod_id)\n",
        "print(\"Product name:\",prod_name)\n",
        "print(\"Expiry Date:\",expiry_date)\n",
        "print(\"Tax:\",tax)\n",
        "print(\"Quantity:\",quantity)\n",
        "print(\"Price:\",price)\n",
        "js = json.dumps(invent)\n",
        "fd = open(\"invent.json\",'w')\n",
        "fd.write(js)\n",
        "fd.close()"
      ],
      "execution_count": 18,
      "outputs": [
        {
          "output_type": "stream",
          "name": "stdout",
          "text": [
            "Enter the Product id:3031\n",
            "Enter the Product name:Oreo Biscuit\n",
            "Enter the Expiry Date:2022-06-14\n",
            "Enter the Tax of the Product:13%\n",
            "Enter Quantity:340\n",
            "Enter the Price:20\n",
            "********************* ADDING PRODUCTS TO THE INVENTORY ********************\n",
            "Product id: 3031\n",
            "Product name: Oreo Biscuit\n",
            "Expiry Date: 2022-06-14\n",
            "Tax: 13%\n",
            "Quantity: 340\n",
            "Price: 20\n"
          ]
        }
      ]
    },
    {
      "cell_type": "code",
      "metadata": {
        "id": "w-zEsBnCyfzE",
        "colab": {
          "base_uri": "https://localhost:8080/"
        },
        "outputId": "ce33891c-ac58-4270-f69b-cb4ca713341e"
      },
      "source": [
        "invent"
      ],
      "execution_count": 50,
      "outputs": [
        {
          "output_type": "execute_result",
          "data": {
            "text/plain": [
              "{3031: {'Expiry_Date': '2022-06-14',\n",
              "  'Price': 20,\n",
              "  'Product name': 'Oreo Biscuit',\n",
              "  'Quantity': 340,\n",
              "  'Tax': '13%'}}"
            ]
          },
          "metadata": {},
          "execution_count": 50
        }
      ]
    }
  ]
}